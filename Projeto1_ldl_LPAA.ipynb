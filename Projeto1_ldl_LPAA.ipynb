{
 "cells": [
  {
   "cell_type": "markdown",
   "id": "432656f6",
   "metadata": {},
   "source": [
    "# Projeto 1 de LPAA - Análise e Exploração de Dados - LEANDRO DANTAS LIMA (059.323.894-00)"
   ]
  },
  {
   "cell_type": "code",
   "execution_count": null,
   "id": "6ac476d6",
   "metadata": {},
   "outputs": [],
   "source": []
  }
 ],
 "metadata": {
  "kernelspec": {
   "display_name": "Python 3 (ipykernel)",
   "language": "python",
   "name": "python3"
  },
  "language_info": {
   "codemirror_mode": {
    "name": "ipython",
    "version": 3
   },
   "file_extension": ".py",
   "mimetype": "text/x-python",
   "name": "python",
   "nbconvert_exporter": "python",
   "pygments_lexer": "ipython3",
   "version": "3.11.5"
  }
 },
 "nbformat": 4,
 "nbformat_minor": 5
}
