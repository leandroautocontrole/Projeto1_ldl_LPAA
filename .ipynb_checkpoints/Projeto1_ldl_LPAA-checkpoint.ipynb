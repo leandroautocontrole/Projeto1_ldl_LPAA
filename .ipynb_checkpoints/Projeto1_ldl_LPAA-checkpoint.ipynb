{
 "cells": [
  {
   "cell_type": "markdown",
   "id": "14fbb823",
   "metadata": {},
   "source": [
    "# Projeto 1 de LPAA - Análise e Exploração de Dados - LEANDRO DANTAS LIMA (059.323.894-00)"
   ]
  },
  {
   "cell_type": "code",
   "execution_count": 172,
   "id": "10d4f26f",
   "metadata": {},
   "outputs": [],
   "source": [
    "# importando bibliotecas que serão utilizadas\n",
    "import numpy as np\n",
    "import pandas as pd\n",
    "from pandas import DataFrame"
   ]
  },
  {
   "cell_type": "code",
   "execution_count": 173,
   "id": "b2599167",
   "metadata": {},
   "outputs": [],
   "source": [
    "# desativar mensagens de warnings\n",
    "pd.options.mode.chained_assignment = None"
   ]
  },
  {
   "cell_type": "code",
   "execution_count": 174,
   "id": "0024ddbe",
   "metadata": {},
   "outputs": [],
   "source": [
    "# importando o banco de dados UFO Sightings para análise\n",
    "df = pd.read_csv(\"scrubbed.csv\", sep=\",\", on_bad_lines='skip', low_memory=False)"
   ]
  },
  {
   "cell_type": "code",
   "execution_count": 175,
   "id": "8986aab1",
   "metadata": {},
   "outputs": [],
   "source": [
    "# criando uma cópia do dataframe para manter o backup do original\n",
    "df_copy = df.copy(deep=True)  # deep=True (padrão) o novo objeto será criado com uma cópia dos dados e índices do objeto original, sem alterações no original."
   ]
  },
  {
   "cell_type": "code",
   "execution_count": 176,
   "id": "d6e8b642",
   "metadata": {
    "scrolled": true
   },
   "outputs": [
    {
     "data": {
      "text/html": [
       "<div>\n",
       "<style scoped>\n",
       "    .dataframe tbody tr th:only-of-type {\n",
       "        vertical-align: middle;\n",
       "    }\n",
       "\n",
       "    .dataframe tbody tr th {\n",
       "        vertical-align: top;\n",
       "    }\n",
       "\n",
       "    .dataframe thead th {\n",
       "        text-align: right;\n",
       "    }\n",
       "</style>\n",
       "<table border=\"1\" class=\"dataframe\">\n",
       "  <thead>\n",
       "    <tr style=\"text-align: right;\">\n",
       "      <th></th>\n",
       "      <th>datetime</th>\n",
       "      <th>city</th>\n",
       "      <th>state</th>\n",
       "      <th>country</th>\n",
       "      <th>shape</th>\n",
       "      <th>duration (seconds)</th>\n",
       "      <th>duration (hours/min)</th>\n",
       "      <th>comments</th>\n",
       "      <th>date posted</th>\n",
       "      <th>latitude</th>\n",
       "      <th>longitude</th>\n",
       "    </tr>\n",
       "  </thead>\n",
       "  <tbody>\n",
       "    <tr>\n",
       "      <th>0</th>\n",
       "      <td>10/10/1949 20:30</td>\n",
       "      <td>san marcos</td>\n",
       "      <td>tx</td>\n",
       "      <td>us</td>\n",
       "      <td>cylinder</td>\n",
       "      <td>2700</td>\n",
       "      <td>45 minutes</td>\n",
       "      <td>This event took place in early fall around 194...</td>\n",
       "      <td>4/27/2004</td>\n",
       "      <td>29.8830556</td>\n",
       "      <td>-97.941111</td>\n",
       "    </tr>\n",
       "    <tr>\n",
       "      <th>1</th>\n",
       "      <td>10/10/1949 21:00</td>\n",
       "      <td>lackland afb</td>\n",
       "      <td>tx</td>\n",
       "      <td>NaN</td>\n",
       "      <td>light</td>\n",
       "      <td>7200</td>\n",
       "      <td>1-2 hrs</td>\n",
       "      <td>1949 Lackland AFB&amp;#44 TX.  Lights racing acros...</td>\n",
       "      <td>12/16/2005</td>\n",
       "      <td>29.38421</td>\n",
       "      <td>-98.581082</td>\n",
       "    </tr>\n",
       "    <tr>\n",
       "      <th>2</th>\n",
       "      <td>10/10/1955 17:00</td>\n",
       "      <td>chester (uk/england)</td>\n",
       "      <td>NaN</td>\n",
       "      <td>gb</td>\n",
       "      <td>circle</td>\n",
       "      <td>20</td>\n",
       "      <td>20 seconds</td>\n",
       "      <td>Green/Orange circular disc over Chester&amp;#44 En...</td>\n",
       "      <td>1/21/2008</td>\n",
       "      <td>53.2</td>\n",
       "      <td>-2.916667</td>\n",
       "    </tr>\n",
       "    <tr>\n",
       "      <th>3</th>\n",
       "      <td>10/10/1956 21:00</td>\n",
       "      <td>edna</td>\n",
       "      <td>tx</td>\n",
       "      <td>us</td>\n",
       "      <td>circle</td>\n",
       "      <td>20</td>\n",
       "      <td>1/2 hour</td>\n",
       "      <td>My older brother and twin sister were leaving ...</td>\n",
       "      <td>1/17/2004</td>\n",
       "      <td>28.9783333</td>\n",
       "      <td>-96.645833</td>\n",
       "    </tr>\n",
       "    <tr>\n",
       "      <th>4</th>\n",
       "      <td>10/10/1960 20:00</td>\n",
       "      <td>kaneohe</td>\n",
       "      <td>hi</td>\n",
       "      <td>us</td>\n",
       "      <td>light</td>\n",
       "      <td>900</td>\n",
       "      <td>15 minutes</td>\n",
       "      <td>AS a Marine 1st Lt. flying an FJ4B fighter/att...</td>\n",
       "      <td>1/22/2004</td>\n",
       "      <td>21.4180556</td>\n",
       "      <td>-157.803611</td>\n",
       "    </tr>\n",
       "  </tbody>\n",
       "</table>\n",
       "</div>"
      ],
      "text/plain": [
       "           datetime                  city state country     shape  \\\n",
       "0  10/10/1949 20:30            san marcos    tx      us  cylinder   \n",
       "1  10/10/1949 21:00          lackland afb    tx     NaN     light   \n",
       "2  10/10/1955 17:00  chester (uk/england)   NaN      gb    circle   \n",
       "3  10/10/1956 21:00                  edna    tx      us    circle   \n",
       "4  10/10/1960 20:00               kaneohe    hi      us     light   \n",
       "\n",
       "  duration (seconds) duration (hours/min)  \\\n",
       "0               2700           45 minutes   \n",
       "1               7200              1-2 hrs   \n",
       "2                 20           20 seconds   \n",
       "3                 20             1/2 hour   \n",
       "4                900           15 minutes   \n",
       "\n",
       "                                            comments date posted    latitude  \\\n",
       "0  This event took place in early fall around 194...   4/27/2004  29.8830556   \n",
       "1  1949 Lackland AFB&#44 TX.  Lights racing acros...  12/16/2005    29.38421   \n",
       "2  Green/Orange circular disc over Chester&#44 En...   1/21/2008        53.2   \n",
       "3  My older brother and twin sister were leaving ...   1/17/2004  28.9783333   \n",
       "4  AS a Marine 1st Lt. flying an FJ4B fighter/att...   1/22/2004  21.4180556   \n",
       "\n",
       "   longitude   \n",
       "0  -97.941111  \n",
       "1  -98.581082  \n",
       "2   -2.916667  \n",
       "3  -96.645833  \n",
       "4 -157.803611  "
      ]
     },
     "execution_count": 176,
     "metadata": {},
     "output_type": "execute_result"
    }
   ],
   "source": [
    "# mostrando as 5 primeiras linhas para entender os dados\n",
    "df_copy.head()"
   ]
  },
  {
   "cell_type": "code",
   "execution_count": 177,
   "id": "daf3e2b7",
   "metadata": {},
   "outputs": [
    {
     "data": {
      "text/plain": [
       "(80332, 11)"
      ]
     },
     "execution_count": 177,
     "metadata": {},
     "output_type": "execute_result"
    }
   ],
   "source": [
    "# mostrando as propriedades do df\n",
    "df_copy.shape"
   ]
  },
  {
   "cell_type": "code",
   "execution_count": 178,
   "id": "c145475b",
   "metadata": {},
   "outputs": [
    {
     "data": {
      "text/plain": [
       "Index(['datetime', 'city', 'state', 'country', 'shape', 'duration (seconds)',\n",
       "       'duration (hours/min)', 'comments', 'date posted', 'latitude',\n",
       "       'longitude '],\n",
       "      dtype='object')"
      ]
     },
     "execution_count": 178,
     "metadata": {},
     "output_type": "execute_result"
    }
   ],
   "source": [
    "# mostrando as colunas do df\n",
    "df_copy.columns"
   ]
  },
  {
   "cell_type": "code",
   "execution_count": 179,
   "id": "8c574e12",
   "metadata": {},
   "outputs": [
    {
     "data": {
      "text/plain": [
       "datetime                 object\n",
       "city                     object\n",
       "state                    object\n",
       "country                  object\n",
       "shape                    object\n",
       "duration (seconds)       object\n",
       "duration (hours/min)     object\n",
       "comments                 object\n",
       "date posted              object\n",
       "latitude                 object\n",
       "longitude               float64\n",
       "dtype: object"
      ]
     },
     "execution_count": 179,
     "metadata": {},
     "output_type": "execute_result"
    }
   ],
   "source": [
    "# mostrando os tipos de dados --> quando não consegue definir, classifica como object\n",
    "df_copy.dtypes"
   ]
  },
  {
   "cell_type": "code",
   "execution_count": 180,
   "id": "bfdb38af",
   "metadata": {},
   "outputs": [
    {
     "data": {
      "text/plain": [
       "RangeIndex(start=0, stop=80332, step=1)"
      ]
     },
     "execution_count": 180,
     "metadata": {},
     "output_type": "execute_result"
    }
   ],
   "source": [
    "# mostrando os índices\n",
    "df_copy.index"
   ]
  },
  {
   "cell_type": "code",
   "execution_count": 181,
   "id": "f1d51fcb",
   "metadata": {},
   "outputs": [
    {
     "data": {
      "text/html": [
       "<div>\n",
       "<style scoped>\n",
       "    .dataframe tbody tr th:only-of-type {\n",
       "        vertical-align: middle;\n",
       "    }\n",
       "\n",
       "    .dataframe tbody tr th {\n",
       "        vertical-align: top;\n",
       "    }\n",
       "\n",
       "    .dataframe thead th {\n",
       "        text-align: right;\n",
       "    }\n",
       "</style>\n",
       "<table border=\"1\" class=\"dataframe\">\n",
       "  <thead>\n",
       "    <tr style=\"text-align: right;\">\n",
       "      <th></th>\n",
       "      <th>longitude</th>\n",
       "    </tr>\n",
       "  </thead>\n",
       "  <tbody>\n",
       "    <tr>\n",
       "      <th>count</th>\n",
       "      <td>80332.000000</td>\n",
       "    </tr>\n",
       "    <tr>\n",
       "      <th>mean</th>\n",
       "      <td>-86.772885</td>\n",
       "    </tr>\n",
       "    <tr>\n",
       "      <th>std</th>\n",
       "      <td>39.697205</td>\n",
       "    </tr>\n",
       "    <tr>\n",
       "      <th>min</th>\n",
       "      <td>-176.658056</td>\n",
       "    </tr>\n",
       "    <tr>\n",
       "      <th>25%</th>\n",
       "      <td>-112.073333</td>\n",
       "    </tr>\n",
       "    <tr>\n",
       "      <th>50%</th>\n",
       "      <td>-87.903611</td>\n",
       "    </tr>\n",
       "    <tr>\n",
       "      <th>75%</th>\n",
       "      <td>-78.755000</td>\n",
       "    </tr>\n",
       "    <tr>\n",
       "      <th>max</th>\n",
       "      <td>178.441900</td>\n",
       "    </tr>\n",
       "  </tbody>\n",
       "</table>\n",
       "</div>"
      ],
      "text/plain": [
       "         longitude \n",
       "count  80332.000000\n",
       "mean     -86.772885\n",
       "std       39.697205\n",
       "min     -176.658056\n",
       "25%     -112.073333\n",
       "50%      -87.903611\n",
       "75%      -78.755000\n",
       "max      178.441900"
      ]
     },
     "execution_count": 181,
     "metadata": {},
     "output_type": "execute_result"
    }
   ],
   "source": [
    "# resumo estatístico do df --> apenas colunas com dados numéricos\n",
    "df_copy.describe()"
   ]
  },
  {
   "cell_type": "code",
   "execution_count": 182,
   "id": "1eee3f90",
   "metadata": {},
   "outputs": [
    {
     "data": {
      "text/plain": [
       "datetime                   0\n",
       "city                       0\n",
       "state                   5797\n",
       "country                 9670\n",
       "shape                   1932\n",
       "duration (seconds)         0\n",
       "duration (hours/min)       0\n",
       "comments                  15\n",
       "date posted                0\n",
       "latitude                   0\n",
       "longitude                  0\n",
       "dtype: int64"
      ]
     },
     "execution_count": 182,
     "metadata": {},
     "output_type": "execute_result"
    }
   ],
   "source": [
    "# conferindo e contando se há valores ausentes no df\n",
    "df_copy.isna().sum()"
   ]
  },
  {
   "cell_type": "code",
   "execution_count": 183,
   "id": "658a786d",
   "metadata": {},
   "outputs": [],
   "source": [
    "# limpando dados ausentes\n",
    "df_copy_clean1 = df_copy.dropna()"
   ]
  },
  {
   "cell_type": "code",
   "execution_count": 184,
   "id": "be34d937",
   "metadata": {},
   "outputs": [
    {
     "data": {
      "text/plain": [
       "datetime                0\n",
       "city                    0\n",
       "state                   0\n",
       "country                 0\n",
       "shape                   0\n",
       "duration (seconds)      0\n",
       "duration (hours/min)    0\n",
       "comments                0\n",
       "date posted             0\n",
       "latitude                0\n",
       "longitude               0\n",
       "dtype: int64"
      ]
     },
     "execution_count": 184,
     "metadata": {},
     "output_type": "execute_result"
    }
   ],
   "source": [
    "# conferindo se ainda há valores ausentes\n",
    "df_copy_clean1.isna().sum()"
   ]
  },
  {
   "cell_type": "code",
   "execution_count": 188,
   "id": "53cfb80d",
   "metadata": {},
   "outputs": [
    {
     "name": "stdout",
     "output_type": "stream",
     "text": [
      "<class 'pandas.core.frame.DataFrame'>\n",
      "Index: 66516 entries, 0 to 80331\n",
      "Data columns (total 11 columns):\n",
      " #   Column                Non-Null Count  Dtype  \n",
      "---  ------                --------------  -----  \n",
      " 0   datetime              66516 non-null  object \n",
      " 1   city                  66516 non-null  object \n",
      " 2   state                 66516 non-null  object \n",
      " 3   country               66516 non-null  object \n",
      " 4   shape                 66516 non-null  object \n",
      " 5   duration (seconds)    66516 non-null  object \n",
      " 6   duration (hours/min)  66516 non-null  object \n",
      " 7   comments              66516 non-null  object \n",
      " 8   date posted           66516 non-null  object \n",
      " 9   latitude              66516 non-null  object \n",
      " 10  longitude             66516 non-null  float64\n",
      "dtypes: float64(1), object(10)\n",
      "memory usage: 6.1+ MB\n"
     ]
    }
   ],
   "source": [
    "# avaliando os tipos de dados por coluna\n",
    "df_copy_clean1.info()"
   ]
  },
  {
   "cell_type": "code",
   "execution_count": 191,
   "id": "36e960fb",
   "metadata": {},
   "outputs": [],
   "source": [
    "# corrigindo dados não numéricos para estatísticas\n",
    "col_num = ['duration (seconds)', 'latitude', 'longitude ']\n",
    "\n",
    "def to_type(DataFrame, columns, type):\n",
    "    for col in columns:\n",
    "        DataFrame[col] = DataFrame[col].astype(type)\n",
    "        \n",
    "to_type(df_copy_clean1, col_num, 'float')"
   ]
  },
  {
   "cell_type": "code",
   "execution_count": 192,
   "id": "d7c3419c",
   "metadata": {},
   "outputs": [
    {
     "name": "stdout",
     "output_type": "stream",
     "text": [
      "<class 'pandas.core.frame.DataFrame'>\n",
      "Index: 66516 entries, 0 to 80331\n",
      "Data columns (total 11 columns):\n",
      " #   Column                Non-Null Count  Dtype  \n",
      "---  ------                --------------  -----  \n",
      " 0   datetime              66516 non-null  object \n",
      " 1   city                  66516 non-null  object \n",
      " 2   state                 66516 non-null  object \n",
      " 3   country               66516 non-null  object \n",
      " 4   shape                 66516 non-null  object \n",
      " 5   duration (seconds)    66516 non-null  float64\n",
      " 6   duration (hours/min)  66516 non-null  object \n",
      " 7   comments              66516 non-null  object \n",
      " 8   date posted           66516 non-null  object \n",
      " 9   latitude              66516 non-null  float64\n",
      " 10  longitude             66516 non-null  float64\n",
      "dtypes: float64(3), object(8)\n",
      "memory usage: 6.1+ MB\n"
     ]
    }
   ],
   "source": [
    "# reconferindo tipo de dados na coluna latitude\n",
    "df_copy_clean1.info()"
   ]
  },
  {
   "cell_type": "code",
   "execution_count": 193,
   "id": "208d9fd0",
   "metadata": {},
   "outputs": [],
   "source": [
    "# filtrando dados para localização com data, local e duração\n",
    "coord = ['datetime',  'latitude', 'longitude ', 'duration (seconds)', 'city', 'state', 'country', 'shape']\n",
    "local = df_copy_clean1[coord]"
   ]
  },
  {
   "cell_type": "code",
   "execution_count": 194,
   "id": "ccd667f4",
   "metadata": {},
   "outputs": [],
   "source": [
    "# exportando/salvando coordenadas para uma planilha excel\n",
    "local.to_excel(r'coordenadas.xlsx')"
   ]
  },
  {
   "cell_type": "code",
   "execution_count": 197,
   "id": "c7363aad",
   "metadata": {},
   "outputs": [
    {
     "data": {
      "text/plain": [
       "country\n",
       "us    63553\n",
       "ca     2942\n",
       "gb       11\n",
       "au       10\n",
       "Name: count, dtype: int64"
      ]
     },
     "execution_count": 197,
     "metadata": {},
     "output_type": "execute_result"
    }
   ],
   "source": [
    "# contando elementos da coluna country\n",
    "df_copy_clean1.country.value_counts()"
   ]
  },
  {
   "cell_type": "code",
   "execution_count": 198,
   "id": "776a7df7",
   "metadata": {},
   "outputs": [
    {
     "data": {
      "text/plain": [
       "state\n",
       "ca    8683\n",
       "fl    3754\n",
       "wa    3709\n",
       "tx    3398\n",
       "ny    2915\n",
       "      ... \n",
       "nf      15\n",
       "pe      10\n",
       "dc       8\n",
       "yt       7\n",
       "yk       2\n",
       "Name: count, Length: 67, dtype: int64"
      ]
     },
     "execution_count": 198,
     "metadata": {},
     "output_type": "execute_result"
    }
   ],
   "source": [
    "# contando elementos da coluna state\n",
    "df_copy_clean1.state.value_counts()"
   ]
  },
  {
   "cell_type": "code",
   "execution_count": 199,
   "id": "89d1bfc3",
   "metadata": {},
   "outputs": [
    {
     "data": {
      "text/plain": [
       "city\n",
       "seattle                           471\n",
       "phoenix                           438\n",
       "las vegas                         356\n",
       "portland                          354\n",
       "los angeles                       347\n",
       "                                 ... \n",
       "egg harbor city                     1\n",
       "garrettsville                       1\n",
       "king of prussia (5 miles from)      1\n",
       "moosup                              1\n",
       "calmar (canada)                     1\n",
       "Name: count, Length: 11920, dtype: int64"
      ]
     },
     "execution_count": 199,
     "metadata": {},
     "output_type": "execute_result"
    }
   ],
   "source": [
    "# contando elementos da coluna city\n",
    "df_copy_clean1.city.value_counts()"
   ]
  },
  {
   "cell_type": "code",
   "execution_count": 200,
   "id": "3fdd91e2",
   "metadata": {
    "scrolled": false
   },
   "outputs": [
    {
     "data": {
      "text/plain": [
       "shape\n",
       "light        14130\n",
       "triangle      6817\n",
       "circle        6405\n",
       "fireball      5364\n",
       "unknown       4774\n",
       "other         4705\n",
       "sphere        4552\n",
       "disk          4319\n",
       "oval          3160\n",
       "formation     2088\n",
       "cigar         1717\n",
       "changing      1653\n",
       "flash         1124\n",
       "rectangle     1117\n",
       "cylinder      1079\n",
       "diamond        969\n",
       "chevron        852\n",
       "teardrop       614\n",
       "egg            609\n",
       "cone           257\n",
       "cross          197\n",
       "delta            7\n",
       "round            2\n",
       "pyramid          1\n",
       "flare            1\n",
       "hexagon          1\n",
       "crescent         1\n",
       "changed          1\n",
       "Name: count, dtype: int64"
      ]
     },
     "execution_count": 200,
     "metadata": {},
     "output_type": "execute_result"
    }
   ],
   "source": [
    "# contando elementos da coluna shape\n",
    "df_copy_clean1['shape'].value_counts()"
   ]
  },
  {
   "cell_type": "code",
   "execution_count": 201,
   "id": "0565a745",
   "metadata": {
    "scrolled": true
   },
   "outputs": [
    {
     "name": "stdout",
     "output_type": "stream",
     "text": [
      "0       [10, 10, 1949 20:30]\n",
      "3       [10, 10, 1956 21:00]\n",
      "4       [10, 10, 1960 20:00]\n",
      "5       [10, 10, 1961 19:00]\n",
      "7       [10, 10, 1965 23:45]\n",
      "                ...         \n",
      "1187    [10, 12, 2013 04:30]\n",
      "1188    [10, 12, 2013 07:17]\n",
      "1189    [10, 12, 2013 07:45]\n",
      "1190    [10, 12, 2013 13:00]\n",
      "1191    [10, 12, 2013 14:35]\n",
      "Name: datetime, Length: 1000, dtype: object\n"
     ]
    }
   ],
   "source": [
    "# separando elementos da data de aparição\n",
    "date_time = df_copy_clean1['datetime'].str.split('/')\n",
    "print(date_time.head(1000))"
   ]
  },
  {
   "cell_type": "code",
   "execution_count": 202,
   "id": "286ac3e5",
   "metadata": {
    "scrolled": true
   },
   "outputs": [
    {
     "data": {
      "text/plain": [
       "0        10\n",
       "3        10\n",
       "4        10\n",
       "5        10\n",
       "7        10\n",
       "         ..\n",
       "80327     9\n",
       "80328     9\n",
       "80329     9\n",
       "80330     9\n",
       "80331     9\n",
       "Name: datetime, Length: 66516, dtype: object"
      ]
     },
     "execution_count": 202,
     "metadata": {},
     "output_type": "execute_result"
    }
   ],
   "source": [
    "# separando dia de datetime\n",
    "day = df_copy_clean1['datetime'].str.split('/').str[1]\n",
    "day"
   ]
  },
  {
   "cell_type": "code",
   "execution_count": 203,
   "id": "2cbb3521",
   "metadata": {},
   "outputs": [
    {
     "data": {
      "text/plain": [
       "datetime\n",
       "15    4846\n",
       "1     4534\n",
       "4     2665\n",
       "20    2513\n",
       "10    2386\n",
       "30    2094\n",
       "12    2092\n",
       "13    2075\n",
       "5     2058\n",
       "14    2056\n",
       "25    2016\n",
       "16    1996\n",
       "3     1973\n",
       "19    1954\n",
       "24    1938\n",
       "7     1934\n",
       "6     1930\n",
       "8     1927\n",
       "17    1926\n",
       "28    1925\n",
       "23    1919\n",
       "18    1918\n",
       "22    1909\n",
       "11    1873\n",
       "21    1871\n",
       "2     1823\n",
       "9     1814\n",
       "27    1714\n",
       "26    1693\n",
       "29    1660\n",
       "31    1484\n",
       "Name: count, dtype: int64"
      ]
     },
     "execution_count": 203,
     "metadata": {},
     "output_type": "execute_result"
    }
   ],
   "source": [
    "# contando aparições por dia do mês\n",
    "day.value_counts()"
   ]
  },
  {
   "cell_type": "code",
   "execution_count": 204,
   "id": "105a6725",
   "metadata": {
    "scrolled": true
   },
   "outputs": [
    {
     "data": {
      "text/plain": [
       "0        10\n",
       "3        10\n",
       "4        10\n",
       "5        10\n",
       "7        10\n",
       "         ..\n",
       "80327     9\n",
       "80328     9\n",
       "80329     9\n",
       "80330     9\n",
       "80331     9\n",
       "Name: datetime, Length: 66516, dtype: object"
      ]
     },
     "execution_count": 204,
     "metadata": {},
     "output_type": "execute_result"
    }
   ],
   "source": [
    "# separando mês de datetime\n",
    "mond = df_copy_clean1['datetime'].str.split('/').str[0]\n",
    "mond"
   ]
  },
  {
   "cell_type": "code",
   "execution_count": 205,
   "id": "4c353aee",
   "metadata": {},
   "outputs": [
    {
     "data": {
      "text/plain": [
       "datetime\n",
       "7     7972\n",
       "8     7152\n",
       "6     6607\n",
       "9     6360\n",
       "10    6321\n",
       "11    5702\n",
       "12    4652\n",
       "1     4596\n",
       "4     4509\n",
       "3     4482\n",
       "5     4346\n",
       "2     3817\n",
       "Name: count, dtype: int64"
      ]
     },
     "execution_count": 205,
     "metadata": {},
     "output_type": "execute_result"
    }
   ],
   "source": [
    "# contando aparições por mês do ano\n",
    "mond.value_counts()"
   ]
  },
  {
   "cell_type": "code",
   "execution_count": 206,
   "id": "96850a0e",
   "metadata": {},
   "outputs": [],
   "source": [
    "# separando apenas ano em uma coluna\n",
    "ano = df_copy_clean1['datetime'].str.split('/').str[2].str.split(' ').str[0]"
   ]
  },
  {
   "cell_type": "code",
   "execution_count": 207,
   "id": "c55a0605",
   "metadata": {
    "scrolled": true
   },
   "outputs": [
    {
     "data": {
      "text/plain": [
       "0        1949\n",
       "3        1956\n",
       "4        1960\n",
       "5        1961\n",
       "7        1965\n",
       "         ... \n",
       "80327    2013\n",
       "80328    2013\n",
       "80329    2013\n",
       "80330    2013\n",
       "80331    2013\n",
       "Name: datetime, Length: 66516, dtype: object"
      ]
     },
     "execution_count": 207,
     "metadata": {},
     "output_type": "execute_result"
    }
   ],
   "source": [
    "ano"
   ]
  },
  {
   "cell_type": "code",
   "execution_count": 208,
   "id": "d2d53d51",
   "metadata": {},
   "outputs": [
    {
     "data": {
      "text/plain": [
       "datetime\n",
       "2012    6489\n",
       "2013    6237\n",
       "2011    4456\n",
       "2008    4089\n",
       "2009    3743\n",
       "        ... \n",
       "1943       1\n",
       "1941       1\n",
       "1920       1\n",
       "1925       1\n",
       "1934       1\n",
       "Name: count, Length: 83, dtype: int64"
      ]
     },
     "execution_count": 208,
     "metadata": {},
     "output_type": "execute_result"
    }
   ],
   "source": [
    "# contando aparições por ano\n",
    "ano.value_counts()"
   ]
  },
  {
   "cell_type": "code",
   "execution_count": 209,
   "id": "798f4687",
   "metadata": {},
   "outputs": [],
   "source": [
    "# criando a coluna ano no dataframe\n",
    "df_copy_clean1['year'] = ano"
   ]
  },
  {
   "cell_type": "code",
   "execution_count": 210,
   "id": "d41a509f",
   "metadata": {
    "scrolled": true
   },
   "outputs": [
    {
     "data": {
      "text/html": [
       "<div>\n",
       "<style scoped>\n",
       "    .dataframe tbody tr th:only-of-type {\n",
       "        vertical-align: middle;\n",
       "    }\n",
       "\n",
       "    .dataframe tbody tr th {\n",
       "        vertical-align: top;\n",
       "    }\n",
       "\n",
       "    .dataframe thead th {\n",
       "        text-align: right;\n",
       "    }\n",
       "</style>\n",
       "<table border=\"1\" class=\"dataframe\">\n",
       "  <thead>\n",
       "    <tr style=\"text-align: right;\">\n",
       "      <th></th>\n",
       "      <th>datetime</th>\n",
       "      <th>city</th>\n",
       "      <th>state</th>\n",
       "      <th>country</th>\n",
       "      <th>shape</th>\n",
       "      <th>duration (seconds)</th>\n",
       "      <th>duration (hours/min)</th>\n",
       "      <th>comments</th>\n",
       "      <th>date posted</th>\n",
       "      <th>latitude</th>\n",
       "      <th>longitude</th>\n",
       "      <th>year</th>\n",
       "    </tr>\n",
       "  </thead>\n",
       "  <tbody>\n",
       "    <tr>\n",
       "      <th>0</th>\n",
       "      <td>10/10/1949 20:30</td>\n",
       "      <td>san marcos</td>\n",
       "      <td>tx</td>\n",
       "      <td>us</td>\n",
       "      <td>cylinder</td>\n",
       "      <td>2700.0</td>\n",
       "      <td>45 minutes</td>\n",
       "      <td>This event took place in early fall around 194...</td>\n",
       "      <td>4/27/2004</td>\n",
       "      <td>29.883056</td>\n",
       "      <td>-97.941111</td>\n",
       "      <td>1949</td>\n",
       "    </tr>\n",
       "    <tr>\n",
       "      <th>3</th>\n",
       "      <td>10/10/1956 21:00</td>\n",
       "      <td>edna</td>\n",
       "      <td>tx</td>\n",
       "      <td>us</td>\n",
       "      <td>circle</td>\n",
       "      <td>20.0</td>\n",
       "      <td>1/2 hour</td>\n",
       "      <td>My older brother and twin sister were leaving ...</td>\n",
       "      <td>1/17/2004</td>\n",
       "      <td>28.978333</td>\n",
       "      <td>-96.645833</td>\n",
       "      <td>1956</td>\n",
       "    </tr>\n",
       "    <tr>\n",
       "      <th>4</th>\n",
       "      <td>10/10/1960 20:00</td>\n",
       "      <td>kaneohe</td>\n",
       "      <td>hi</td>\n",
       "      <td>us</td>\n",
       "      <td>light</td>\n",
       "      <td>900.0</td>\n",
       "      <td>15 minutes</td>\n",
       "      <td>AS a Marine 1st Lt. flying an FJ4B fighter/att...</td>\n",
       "      <td>1/22/2004</td>\n",
       "      <td>21.418056</td>\n",
       "      <td>-157.803611</td>\n",
       "      <td>1960</td>\n",
       "    </tr>\n",
       "    <tr>\n",
       "      <th>5</th>\n",
       "      <td>10/10/1961 19:00</td>\n",
       "      <td>bristol</td>\n",
       "      <td>tn</td>\n",
       "      <td>us</td>\n",
       "      <td>sphere</td>\n",
       "      <td>300.0</td>\n",
       "      <td>5 minutes</td>\n",
       "      <td>My father is now 89 my brother 52 the girl wit...</td>\n",
       "      <td>4/27/2007</td>\n",
       "      <td>36.595000</td>\n",
       "      <td>-82.188889</td>\n",
       "      <td>1961</td>\n",
       "    </tr>\n",
       "    <tr>\n",
       "      <th>7</th>\n",
       "      <td>10/10/1965 23:45</td>\n",
       "      <td>norwalk</td>\n",
       "      <td>ct</td>\n",
       "      <td>us</td>\n",
       "      <td>disk</td>\n",
       "      <td>1200.0</td>\n",
       "      <td>20 minutes</td>\n",
       "      <td>A bright orange color changing to reddish colo...</td>\n",
       "      <td>10/2/1999</td>\n",
       "      <td>41.117500</td>\n",
       "      <td>-73.408333</td>\n",
       "      <td>1965</td>\n",
       "    </tr>\n",
       "  </tbody>\n",
       "</table>\n",
       "</div>"
      ],
      "text/plain": [
       "           datetime        city state country     shape  duration (seconds)  \\\n",
       "0  10/10/1949 20:30  san marcos    tx      us  cylinder              2700.0   \n",
       "3  10/10/1956 21:00        edna    tx      us    circle                20.0   \n",
       "4  10/10/1960 20:00     kaneohe    hi      us     light               900.0   \n",
       "5  10/10/1961 19:00     bristol    tn      us    sphere               300.0   \n",
       "7  10/10/1965 23:45     norwalk    ct      us      disk              1200.0   \n",
       "\n",
       "  duration (hours/min)                                           comments  \\\n",
       "0           45 minutes  This event took place in early fall around 194...   \n",
       "3             1/2 hour  My older brother and twin sister were leaving ...   \n",
       "4           15 minutes  AS a Marine 1st Lt. flying an FJ4B fighter/att...   \n",
       "5            5 minutes  My father is now 89 my brother 52 the girl wit...   \n",
       "7           20 minutes  A bright orange color changing to reddish colo...   \n",
       "\n",
       "  date posted   latitude  longitude   year  \n",
       "0   4/27/2004  29.883056  -97.941111  1949  \n",
       "3   1/17/2004  28.978333  -96.645833  1956  \n",
       "4   1/22/2004  21.418056 -157.803611  1960  \n",
       "5   4/27/2007  36.595000  -82.188889  1961  \n",
       "7   10/2/1999  41.117500  -73.408333  1965  "
      ]
     },
     "execution_count": 210,
     "metadata": {},
     "output_type": "execute_result"
    }
   ],
   "source": [
    "# conferindo coluna ano criada\n",
    "df_copy_clean1.head()"
   ]
  },
  {
   "cell_type": "code",
   "execution_count": 211,
   "id": "025518e4",
   "metadata": {},
   "outputs": [
    {
     "data": {
      "text/plain": [
       "Index(['datetime', 'city', 'state', 'country', 'shape', 'duration (seconds)',\n",
       "       'duration (hours/min)', 'comments', 'date posted', 'latitude',\n",
       "       'longitude ', 'year'],\n",
       "      dtype='object')"
      ]
     },
     "execution_count": 211,
     "metadata": {},
     "output_type": "execute_result"
    }
   ],
   "source": [
    "# mostrando colunas atuais do df\n",
    "df_copy_clean1.columns"
   ]
  },
  {
   "cell_type": "code",
   "execution_count": 212,
   "id": "4a37ed37",
   "metadata": {},
   "outputs": [],
   "source": [
    "# reordenando e colunas do dataframe para melhor análise\n",
    "df_copy_clean1 = df_copy_clean1[['datetime', 'duration (seconds)', 'country', 'state', 'city',  'latitude', 'longitude ', 'shape']]"
   ]
  },
  {
   "cell_type": "code",
   "execution_count": 213,
   "id": "a6bdfb9a",
   "metadata": {},
   "outputs": [
    {
     "data": {
      "text/html": [
       "<div>\n",
       "<style scoped>\n",
       "    .dataframe tbody tr th:only-of-type {\n",
       "        vertical-align: middle;\n",
       "    }\n",
       "\n",
       "    .dataframe tbody tr th {\n",
       "        vertical-align: top;\n",
       "    }\n",
       "\n",
       "    .dataframe thead th {\n",
       "        text-align: right;\n",
       "    }\n",
       "</style>\n",
       "<table border=\"1\" class=\"dataframe\">\n",
       "  <thead>\n",
       "    <tr style=\"text-align: right;\">\n",
       "      <th></th>\n",
       "      <th>datetime</th>\n",
       "      <th>duration (seconds)</th>\n",
       "      <th>country</th>\n",
       "      <th>state</th>\n",
       "      <th>city</th>\n",
       "      <th>latitude</th>\n",
       "      <th>longitude</th>\n",
       "      <th>shape</th>\n",
       "    </tr>\n",
       "  </thead>\n",
       "  <tbody>\n",
       "    <tr>\n",
       "      <th>0</th>\n",
       "      <td>10/10/1949 20:30</td>\n",
       "      <td>2700.0</td>\n",
       "      <td>us</td>\n",
       "      <td>tx</td>\n",
       "      <td>san marcos</td>\n",
       "      <td>29.883056</td>\n",
       "      <td>-97.941111</td>\n",
       "      <td>cylinder</td>\n",
       "    </tr>\n",
       "    <tr>\n",
       "      <th>3</th>\n",
       "      <td>10/10/1956 21:00</td>\n",
       "      <td>20.0</td>\n",
       "      <td>us</td>\n",
       "      <td>tx</td>\n",
       "      <td>edna</td>\n",
       "      <td>28.978333</td>\n",
       "      <td>-96.645833</td>\n",
       "      <td>circle</td>\n",
       "    </tr>\n",
       "    <tr>\n",
       "      <th>4</th>\n",
       "      <td>10/10/1960 20:00</td>\n",
       "      <td>900.0</td>\n",
       "      <td>us</td>\n",
       "      <td>hi</td>\n",
       "      <td>kaneohe</td>\n",
       "      <td>21.418056</td>\n",
       "      <td>-157.803611</td>\n",
       "      <td>light</td>\n",
       "    </tr>\n",
       "    <tr>\n",
       "      <th>5</th>\n",
       "      <td>10/10/1961 19:00</td>\n",
       "      <td>300.0</td>\n",
       "      <td>us</td>\n",
       "      <td>tn</td>\n",
       "      <td>bristol</td>\n",
       "      <td>36.595000</td>\n",
       "      <td>-82.188889</td>\n",
       "      <td>sphere</td>\n",
       "    </tr>\n",
       "    <tr>\n",
       "      <th>7</th>\n",
       "      <td>10/10/1965 23:45</td>\n",
       "      <td>1200.0</td>\n",
       "      <td>us</td>\n",
       "      <td>ct</td>\n",
       "      <td>norwalk</td>\n",
       "      <td>41.117500</td>\n",
       "      <td>-73.408333</td>\n",
       "      <td>disk</td>\n",
       "    </tr>\n",
       "  </tbody>\n",
       "</table>\n",
       "</div>"
      ],
      "text/plain": [
       "           datetime  duration (seconds) country state        city   latitude  \\\n",
       "0  10/10/1949 20:30              2700.0      us    tx  san marcos  29.883056   \n",
       "3  10/10/1956 21:00                20.0      us    tx        edna  28.978333   \n",
       "4  10/10/1960 20:00               900.0      us    hi     kaneohe  21.418056   \n",
       "5  10/10/1961 19:00               300.0      us    tn     bristol  36.595000   \n",
       "7  10/10/1965 23:45              1200.0      us    ct     norwalk  41.117500   \n",
       "\n",
       "   longitude      shape  \n",
       "0  -97.941111  cylinder  \n",
       "3  -96.645833    circle  \n",
       "4 -157.803611     light  \n",
       "5  -82.188889    sphere  \n",
       "7  -73.408333      disk  "
      ]
     },
     "execution_count": 213,
     "metadata": {},
     "output_type": "execute_result"
    }
   ],
   "source": [
    "# mostrando colunas reordenadas\n",
    "df_copy_clean1.head()"
   ]
  },
  {
   "cell_type": "code",
   "execution_count": 214,
   "id": "a454099a",
   "metadata": {},
   "outputs": [
    {
     "data": {
      "text/plain": [
       "duration (seconds)\n",
       "300.0        7254\n",
       "120.0        5973\n",
       "600.0        5223\n",
       "60.0         4830\n",
       "180.0        4261\n",
       "             ... \n",
       "7894800.0       1\n",
       "60600.0         1\n",
       "555.0           1\n",
       "212.0           1\n",
       "181.0           1\n",
       "Name: count, Length: 466, dtype: int64"
      ]
     },
     "execution_count": 214,
     "metadata": {},
     "output_type": "execute_result"
    }
   ],
   "source": [
    "# contando duração das aparições\n",
    "df_copy_clean1['duration (seconds)'].value_counts()"
   ]
  },
  {
   "cell_type": "code",
   "execution_count": 215,
   "id": "7639c9ac",
   "metadata": {},
   "outputs": [
    {
     "data": {
      "text/plain": [
       "6572.996773708581"
      ]
     },
     "execution_count": 215,
     "metadata": {},
     "output_type": "execute_result"
    }
   ],
   "source": [
    "# média de duração das aparições\n",
    "df_copy_clean1['duration (seconds)'].mean()"
   ]
  },
  {
   "cell_type": "code",
   "execution_count": 217,
   "id": "0e3ffe00",
   "metadata": {},
   "outputs": [
    {
     "data": {
      "text/plain": [
       "510890.9587046626"
      ]
     },
     "execution_count": 217,
     "metadata": {},
     "output_type": "execute_result"
    }
   ],
   "source": [
    "# desvio padrão duração das aparições\n",
    "desv_pad = df_copy_clean1['duration (seconds)'].std()\n",
    "desv_pad"
   ]
  },
  {
   "cell_type": "code",
   "execution_count": 219,
   "id": "6dd97d7b",
   "metadata": {},
   "outputs": [
    {
     "data": {
      "text/plain": [
       "count    6.651600e+04\n",
       "mean     6.572997e+03\n",
       "std      5.108910e+05\n",
       "min      1.000000e-02\n",
       "25%      3.000000e+01\n",
       "50%      1.800000e+02\n",
       "75%      6.000000e+02\n",
       "max      8.280000e+07\n",
       "Name: duration (seconds), dtype: float64"
      ]
     },
     "execution_count": 219,
     "metadata": {},
     "output_type": "execute_result"
    }
   ],
   "source": [
    "# estatísticas da duração das aparições\n",
    "df_copy_clean1['duration (seconds)'].describe()"
   ]
  },
  {
   "cell_type": "code",
   "execution_count": 229,
   "id": "66382e0c",
   "metadata": {},
   "outputs": [],
   "source": [
    "# Removendo elementos acima do 3º quartil para melhorar análise dos dados\n",
    "df_remove = df_copy_clean1['duration (seconds)'].loc[(df_copy_clean1['duration (seconds)'] > 600)]"
   ]
  },
  {
   "cell_type": "code",
   "execution_count": 230,
   "id": "28d8795f",
   "metadata": {},
   "outputs": [
    {
     "data": {
      "text/plain": [
       "428531507.0"
      ]
     },
     "execution_count": 230,
     "metadata": {},
     "output_type": "execute_result"
    }
   ],
   "source": [
    "# contagem de dados removidos\n",
    "df_remove.sum()"
   ]
  },
  {
   "cell_type": "code",
   "execution_count": 231,
   "id": "67d4002e",
   "metadata": {},
   "outputs": [],
   "source": [
    "# criando novo df sem os dados acima do 3º quartil\n",
    "df_copy_clean2 = df_copy_clean1.drop(df_remove.index)"
   ]
  },
  {
   "cell_type": "code",
   "execution_count": 232,
   "id": "f525caad",
   "metadata": {},
   "outputs": [
    {
     "data": {
      "text/plain": [
       "(51513, 8)"
      ]
     },
     "execution_count": 232,
     "metadata": {},
     "output_type": "execute_result"
    }
   ],
   "source": [
    "# novas dimensões do df\n",
    "df_copy_clean2.shape"
   ]
  },
  {
   "cell_type": "code",
   "execution_count": 233,
   "id": "f72f6f1a",
   "metadata": {},
   "outputs": [
    {
     "data": {
      "text/plain": [
       "duration (seconds)\n",
       "300.00    7254\n",
       "120.00    5973\n",
       "600.00    5223\n",
       "60.00     4830\n",
       "180.00    4261\n",
       "          ... \n",
       "300.13       1\n",
       "345.50       1\n",
       "56.00        1\n",
       "71.00        1\n",
       "181.00       1\n",
       "Name: count, Length: 202, dtype: int64"
      ]
     },
     "execution_count": 233,
     "metadata": {},
     "output_type": "execute_result"
    }
   ],
   "source": [
    "# contando duração das aparições\n",
    "df_copy_clean2['duration (seconds)'].value_counts()"
   ]
  },
  {
   "cell_type": "code",
   "execution_count": 236,
   "id": "8d8f2f43",
   "metadata": {},
   "outputs": [
    {
     "data": {
      "text/plain": [
       "count    51513.000000\n",
       "mean       168.461289\n",
       "std        185.567019\n",
       "min          0.010000\n",
       "25%         15.000000\n",
       "50%        120.000000\n",
       "75%        300.000000\n",
       "max        600.000000\n",
       "Name: duration (seconds), dtype: float64"
      ]
     },
     "execution_count": 236,
     "metadata": {},
     "output_type": "execute_result"
    }
   ],
   "source": [
    "# estatísticas da duração das aparições (melhoradas)\n",
    "df_copy_clean2['duration (seconds)'].describe()"
   ]
  },
  {
   "cell_type": "code",
   "execution_count": null,
   "id": "8a3f8105",
   "metadata": {},
   "outputs": [],
   "source": []
  }
 ],
 "metadata": {
  "kernelspec": {
   "display_name": "Python 3 (ipykernel)",
   "language": "python",
   "name": "python3"
  },
  "language_info": {
   "codemirror_mode": {
    "name": "ipython",
    "version": 3
   },
   "file_extension": ".py",
   "mimetype": "text/x-python",
   "name": "python",
   "nbconvert_exporter": "python",
   "pygments_lexer": "ipython3",
   "version": "3.11.5"
  }
 },
 "nbformat": 4,
 "nbformat_minor": 5
}
